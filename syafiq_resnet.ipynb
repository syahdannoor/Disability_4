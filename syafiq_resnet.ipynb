{
  "nbformat": 4,
  "nbformat_minor": 0,
  "metadata": {
    "colab": {
      "name": "Untitled0.ipynb",
      "provenance": [],
      "collapsed_sections": []
    },
    "kernelspec": {
      "name": "python3",
      "display_name": "Python 3"
    },
    "language_info": {
      "name": "python"
    }
  },
  "cells": [
    {
      "cell_type": "code",
      "execution_count": 1,
      "metadata": {
        "colab": {
          "base_uri": "https://localhost:8080/"
        },
        "id": "FjK2AuaaSDNH",
        "outputId": "a89c3da4-844c-4d33-9f6c-f3f15429b480"
      },
      "outputs": [
        {
          "output_type": "stream",
          "name": "stdout",
          "text": [
            "Mounted at /content/drive\n"
          ]
        }
      ],
      "source": [
        "from google.colab import drive\n",
        "drive.mount('/content/drive')"
      ]
    },
    {
      "cell_type": "code",
      "source": [
        "import os\n",
        "import keras\n",
        "import pickle\n",
        "import numpy as np\n",
        "\n",
        "def resnet50_model(classes=1000, *args, **kwargs):\n",
        "    # Load a model if we have saved one\n",
        "    if(os.path.isfile('/content/drive/MyDrive/colab_notebook/digitalent/model/resnet_50.h5') == True):\n",
        "        return keras.models.load_model('/content/drive/MyDrive/colab_notebook/digitalent/model/resnet_50.h5')\n",
        "    # Create an input layer \n",
        "    input = keras.layers.Input(shape=(None, None, 3))\n",
        "    # Create output layers\n",
        "    output = keras.layers.ZeroPadding2D(padding=3, name='padding_conv1')(input)\n",
        "    output = keras.layers.Conv2D(64, (7, 7), strides=(2, 2), use_bias=False, name='conv1')(output)\n",
        "    output = keras.layers.BatchNormalization(axis=3, epsilon=1e-5, name='bn_conv1')(output)\n",
        "    output = keras.layers.Activation('relu', name='conv1_relu')(output)\n",
        "    output = keras.layers.MaxPooling2D((3, 3), strides=(2, 2), padding='same', name='pool1')(output)\n",
        "    output = conv_block(output, 3, [64, 64, 256], stage=2, block='a', strides=(1, 1))\n",
        "    output = identity_block(output, 3, [64, 64, 256], stage=2, block='b')\n",
        "    output = identity_block(output, 3, [64, 64, 256], stage=2, block='c')\n",
        "    output = conv_block(output, 3, [128, 128, 512], stage=3, block='a')\n",
        "    output = identity_block(output, 3, [128, 128, 512], stage=3, block='b')\n",
        "    output = identity_block(output, 3, [128, 128, 512], stage=3, block='c')\n",
        "    output = identity_block(output, 3, [128, 128, 512], stage=3, block='d')\n",
        "    output = conv_block(output, 3, [256, 256, 1024], stage=4, block='a')\n",
        "    output = identity_block(output, 3, [256, 256, 1024], stage=4, block='b')\n",
        "    output = identity_block(output, 3, [256, 256, 1024], stage=4, block='c')\n",
        "    output = identity_block(output, 3, [256, 256, 1024], stage=4, block='d')\n",
        "    output = identity_block(output, 3, [256, 256, 1024], stage=4, block='e')\n",
        "    output = identity_block(output, 3, [256, 256, 1024], stage=4, block='f')\n",
        "    output = conv_block(output, 3, [512, 512, 2048], stage=5, block='a')\n",
        "    output = identity_block(output, 3, [512, 512, 2048], stage=5, block='b')\n",
        "    output = identity_block(output, 3, [512, 512, 2048], stage=5, block='c')\n",
        "    output = keras.layers.GlobalAveragePooling2D(name='pool5')(output)\n",
        "    output = keras.layers.Dense(classes, activation='softmax', name='fc1000')(output)\n",
        "    # Create a model from input layer and output layers\n",
        "    model = keras.models.Model(inputs=input, outputs=output, *args, **kwargs)\n",
        "    # Print model\n",
        "    print()\n",
        "    # print(model.summary(), '\\n')\n",
        "    # Compile the model\n",
        "    model.compile(loss='categorical_crossentropy', optimizer=\"adam\", metrics=['accuracy'])\n",
        "    # Return a model\n",
        "    return model\n",
        "# Create an identity block\n",
        "def identity_block(input, kernel_size, filters, stage, block):\n",
        "    \n",
        "    # Variables\n",
        "    filters1, filters2, filters3 = filters\n",
        "    conv_name_base = 'res' + str(stage) + block + '_branch'\n",
        "    bn_name_base = 'bn' + str(stage) + block + '_branch'\n",
        "    # Create layers\n",
        "    output = keras.layers.Conv2D(filters1, (1, 1), kernel_initializer='he_normal', name=conv_name_base + '2a')(input)\n",
        "    output = keras.layers.BatchNormalization(axis=3, name=bn_name_base + '2a')(output)\n",
        "    output = keras.layers.Activation('relu')(output)\n",
        "    output = keras.layers.Conv2D(filters2, kernel_size, padding='same', kernel_initializer='he_normal', name=conv_name_base + '2b')(output)\n",
        "    output = keras.layers.BatchNormalization(axis=3, name=bn_name_base + '2b')(output)\n",
        "    output = keras.layers.Activation('relu')(output)\n",
        "    output = keras.layers.Conv2D(filters3, (1, 1), kernel_initializer='he_normal', name=conv_name_base + '2c')(output)\n",
        "    output = keras.layers.BatchNormalization(axis=3, name=bn_name_base + '2c')(output)\n",
        "    output = keras.layers.add([output, input])\n",
        "    output = keras.layers.Activation('relu')(output)\n",
        "    # Return a block\n",
        "    return output\n",
        "# Create a convolution block\n",
        "def conv_block(input, kernel_size, filters, stage, block, strides=(2, 2)):\n",
        "    # Variables\n",
        "    filters1, filters2, filters3 = filters\n",
        "    conv_name_base = 'res' + str(stage) + block + '_branch'\n",
        "    bn_name_base = 'bn' + str(stage) + block + '_branch'\n",
        "    # Create block layers\n",
        "    output = keras.layers.Conv2D(filters1, (1, 1), strides=strides, kernel_initializer='he_normal', name=conv_name_base + '2a')(input)\n",
        "    output = keras.layers.BatchNormalization(axis=3, name=bn_name_base + '2a')(output)\n",
        "    output = keras.layers.Activation('relu')(output)\n",
        "    output = keras.layers.Conv2D(filters2, kernel_size, padding='same', kernel_initializer='he_normal', name=conv_name_base + '2b')(output)\n",
        "    output = keras.layers.BatchNormalization(axis=3, name=bn_name_base + '2b')(output)\n",
        "    output = keras.layers.Activation('relu')(output)\n",
        "    output = keras.layers.Conv2D(filters3, (1, 1), kernel_initializer='he_normal', name=conv_name_base + '2c')(output)\n",
        "    output = keras.layers.BatchNormalization(axis=3, name=bn_name_base + '2c')(output)\n",
        "    shortcut = keras.layers.Conv2D(filters3, (1, 1), strides=strides, kernel_initializer='he_normal', name=conv_name_base + '1')(input)\n",
        "    shortcut = keras.layers.BatchNormalization(axis=3, name=bn_name_base + '1')(shortcut)\n",
        "    output = keras.layers.add([output, shortcut])\n",
        "    output = keras.layers.Activation('relu')(output)\n",
        "    # Return a block\n",
        "    return output"
      ],
      "metadata": {
        "id": "7Ea3m5UATB83"
      },
      "execution_count": 5,
      "outputs": []
    },
    {
      "cell_type": "code",
      "source": [
        "def train():\n",
        "    \n",
        "    epochs = 100\n",
        "    batch_size = 32\n",
        "    train_samples = 26 * 12 # 26 categories with 12 images in each category\n",
        "    validation_samples = 26 * 12 # 26 categories with 12 images in each category\n",
        "    img_width, img_height = 32, 32\n",
        "    # Get the model (26 categories)\n",
        "    model = resnet50_model(26)\n",
        "    # Create a data generator for training\n",
        "    train_data_generator = keras.preprocessing.image.ImageDataGenerator(\n",
        "        rescale=1./255, \n",
        "        shear_range=0.2, \n",
        "        zoom_range=0.2, \n",
        "        horizontal_flip=True)\n",
        "    # Create a data generator for validation\n",
        "    validation_data_generator = keras.preprocessing.image.ImageDataGenerator(\n",
        "        rescale=1./255,\n",
        "        shear_range=0.2,\n",
        "        zoom_range=0.2, \n",
        "        horizontal_flip=True)\n",
        "    # Create a train generator\n",
        "    train_generator = train_data_generator.flow_from_directory( \n",
        "        '/content/drive/MyDrive/colab_notebook/digitalent/dataset/Citra/', \n",
        "        target_size=(img_width, img_height), \n",
        "        batch_size=batch_size,\n",
        "        color_mode='rgb',\n",
        "        shuffle=True,\n",
        "        class_mode='categorical')\n",
        "    # Create a test generator\n",
        "    validation_generator = validation_data_generator.flow_from_directory( \n",
        "        '/content/drive/MyDrive/colab_notebook/digitalent/dataset/Citra/', \n",
        "        target_size=(img_width, img_height), \n",
        "        batch_size=batch_size,\n",
        "        color_mode='rgb',\n",
        "        shuffle=True,\n",
        "        class_mode='categorical')\n",
        "    # Start training, fit the model\n",
        "    hist = model.fit(\n",
        "        train_generator,\n",
        "        validation_data=validation_generator,\n",
        "        epochs=epochs,\n",
        "        steps_per_epoch=train_samples // batch_size,\n",
        "        validation_steps=validation_samples // batch_size,\n",
        "    )\n",
        "    # hist = model.fit_generator( \n",
        "    #     train_generator, \n",
        "    #     # steps_per_epoch=train_samples // batch_size, \n",
        "    #     validation_data=validation_generator, \n",
        "    #     # validation_steps=validation_samples // batch_size,\n",
        "    #     epochs=epochs)\n",
        "    # Save model to disk\n",
        "    model.save('/content/drive/MyDrive/colab_notebook/digitalent/model/resnet_50.h5')\n",
        "    print('Saved model to disk!')\n",
        "    # Get labels\n",
        "    labels = train_generator.class_indices\n",
        "    # Invert labels\n",
        "    classes = {}\n",
        "    for key, value in labels.items():\n",
        "        classes[value] = key.capitalize()\n",
        "    # Save classes to file\n",
        "    with open('/content/drive/MyDrive/colab_notebook/digitalent/model/classes.pkl', 'wb') as file:\n",
        "        pickle.dump(classes, file)\n",
        "    print('Saved classes to disk!')\n",
        "\n",
        "    return hist"
      ],
      "metadata": {
        "id": "UVQlylhgTGY_"
      },
      "execution_count": 8,
      "outputs": []
    },
    {
      "cell_type": "code",
      "source": [
        "train()"
      ],
      "metadata": {
        "collapsed": true,
        "id": "9fI_igK_TQLr"
      },
      "execution_count": null,
      "outputs": []
    },
    {
      "cell_type": "code",
      "source": [
        "input.shape\n",
        "# input.reshape(1, 32, 32, 3)"
      ],
      "metadata": {
        "colab": {
          "base_uri": "https://localhost:8080/"
        },
        "id": "RAHMIWhVoVsc",
        "outputId": "9ca2ad0b-74ba-4109-cfc6-b6a6bafe083e"
      },
      "execution_count": null,
      "outputs": [
        {
          "output_type": "execute_result",
          "data": {
            "text/plain": [
              "(3000, 3000, 3)"
            ]
          },
          "metadata": {},
          "execution_count": 5
        }
      ]
    },
    {
      "cell_type": "code",
      "source": [
        "import keras\n",
        "import cv2\n",
        "import numpy as np\n",
        "import pickle\n",
        "\n",
        "model = keras.models.load_model('/content/drive/MyDrive/colab_notebook/digitalent/model/resnet_50.h5')\n",
        "with open('/content/drive/MyDrive/colab_notebook/digitalent/model/classes.pkl', 'rb') as file:\n",
        "        classes = pickle.load(file)\n",
        "image = cv2.imread('/content/drive/MyDrive/colab_notebook/digitalent/dataset/Citra/A/wall white (3).jpg')\n",
        "input = np.array(image)\n",
        "input = np.array(image).reshape((1, 3000, 3000, 3)).astype('float32')/255\n",
        "predictions = model.predict(input).ravel()\n",
        "image = cv2.resize(image,(256,256))\n",
        "#         # Print predictions\n",
        "# print(predictions)\n",
        "# model.summary()\n"
      ],
      "metadata": {
        "id": "l31cE43TzYUS"
      },
      "execution_count": null,
      "outputs": []
    },
    {
      "cell_type": "code",
      "source": [
        "import cv2\n",
        "import numpy as np\n",
        "\n",
        "# img = cv2.imread('your_image.jpg')\n",
        "res = cv2.resize(image, dsize=(32, 32), interpolation=cv2.INTER_CUBIC)\n",
        "res.shape\n",
        "# input = np.array(image)\n",
        "input = np.array(res).reshape((1, 32, 32, 3)).astype('float32')/255"
      ],
      "metadata": {
        "id": "hFEKAlVL7un4"
      },
      "execution_count": null,
      "outputs": []
    },
    {
      "cell_type": "code",
      "source": [
        "# Import libraries\n",
        "import os\n",
        "import cv2\n",
        "import keras\n",
        "import random\n",
        "import pickle\n",
        "import numpy as np\n",
        "# Evaluate the model\n",
        "def evaluate():\n",
        "    # Load the model\n",
        "    model = keras.models.load_model('/content/drive/MyDrive/colab_notebook/digitalent/model/resnet_50.h5')\n",
        "    # Load classes\n",
        "    classes = {}\n",
        "    with open('/content/drive/MyDrive/colab_notebook/digitalent/model/classes.pkl', 'rb') as file:\n",
        "        classes = pickle.load(file)\n",
        "    # Get a list of categories\n",
        "    categories = os.listdir('/content/drive/MyDrive/colab_notebook/digitalent/dataset/Citra/')\n",
        "    # Get a category a random\n",
        "    category = random.choice(categories)\n",
        "    # Print the category\n",
        "    print(category)\n",
        "    # Get images in a categorydd\n",
        "    images =  os.listdir('/content/drive/MyDrive/colab_notebook/digitalent/dataset/Citra/' + category)\n",
        "    # Randomize images to get different images each time\n",
        "    random.shuffle(images)\n",
        "    # Loop images\n",
        "    blocks = []\n",
        "    for i, name in enumerate(images):\n",
        "        # Limit the evaluation\n",
        "        if i > 6:\n",
        "            break;\n",
        "        # Print the name\n",
        "        print(name)\n",
        "        # Get the image\n",
        "        image = cv2.imread('/content/drive/MyDrive/colab_notebook/digitalent/dataset/Citra/' + category + '/' + name)\n",
        "        # Get input reshaped and rescaled\n",
        "        res = cv2.resize(image, dsize=(32, 32), interpolation=cv2.INTER_CUBIC)\n",
        "        input = np.array(res).reshape((1, 32, 32, 3)).astype('float32')/255\n",
        "        # Get predictions\n",
        "        predictions = model.predict(input).ravel()\n",
        "        # Print predictions\n",
        "        print(predictions)\n",
        "        # Get the class with the highest probability\n",
        "        prediction = np.argmax(predictions)\n",
        "        # Check if the prediction is correct\n",
        "        correct = True if classes[prediction].lower() == category else False\n",
        "        print(correct)\n",
        "        # Draw the image and show the best prediction\n",
        "        image = cv2.resize(image,(256,256))\n",
        "        cv2.putText(image, '{0}: {1} %'.format(classes[prediction], str(round(predictions[prediction] * 100, 2))), (12, 22), cv2.FONT_HERSHEY_DUPLEX, 0.7, (0, 0, 0), 2)\n",
        "        cv2.putText(image, '{0}: {1} %'.format(classes[prediction], str(round(predictions[prediction] * 100, 2))), (10, 20), cv2.FONT_HERSHEY_DUPLEX, 0.7, (65,105,225), 2)\n",
        "        cv2.putText(image, '{0}'.format('CORRECT!' if correct else 'WRONG!'), (12, 50), cv2.FONT_HERSHEY_DUPLEX, 0.7, (0, 0, 0), 2)\n",
        "        cv2.putText(image, '{0}'.format('CORRECT!' if correct else 'WRONG!'), (10, 48), cv2.FONT_HERSHEY_DUPLEX, 0.7, (0, 255, 0) if correct else (0, 0, 255), 2)\n",
        "        \n",
        "        # Append the image\n",
        "        blocks.append(image)\n",
        "        \n",
        "    # Display images and predictions\n",
        "    row1 = np.concatenate(blocks[0:3], axis=1)\n",
        "    row2 = np.concatenate(blocks[3:6], axis=1)\n",
        "    # cv2.imshow('Predictions', np.concatenate((row1, row2), axis=0))\n",
        "    cv2.imwrite('predictions.jpg', np.concatenate((row1, row2), axis=0)) \n",
        "    cv2.waitKey(0)"
      ],
      "metadata": {
        "id": "Gz-0gxCD6Gkj"
      },
      "execution_count": 12,
      "outputs": []
    },
    {
      "cell_type": "code",
      "source": [
        "evaluate()"
      ],
      "metadata": {
        "colab": {
          "base_uri": "https://localhost:8080/"
        },
        "id": "XSsN9HbkyEGC",
        "outputId": "8f9fee70-1547-4a47-87b5-08183568e2f2"
      },
      "execution_count": 15,
      "outputs": [
        {
          "output_type": "stream",
          "name": "stdout",
          "text": [
            "V\n",
            "wall white (1).jpg\n",
            "[3.1817744e-06 1.3322223e-05 3.1187877e-04 4.4481599e-06 2.4695380e-05\n",
            " 1.6751189e-06 2.2100587e-06 1.2560356e-06 4.8256913e-04 1.4364411e-05\n",
            " 6.8171052e-05 1.4216435e-05 6.2408089e-06 8.2601082e-06 3.7800243e-01\n",
            " 1.6630987e-05 2.1277415e-02 7.4556423e-04 5.3466065e-06 4.1149252e-07\n",
            " 5.9002161e-04 5.9767705e-01 1.7294340e-06 9.4936709e-08 1.3156940e-06\n",
            " 7.2554318e-04]\n",
            "False\n",
            "body white (3).jpg\n",
            "[3.5489418e-05 1.8599548e-07 2.4020822e-04 6.9558308e-05 6.3333282e-06\n",
            " 8.9108944e-08 9.4416087e-08 4.7362995e-05 4.4520055e-03 9.4518939e-05\n",
            " 1.3161293e-06 3.9719874e-03 3.6898384e-06 3.7822142e-06 1.6440592e-04\n",
            " 2.2079803e-05 1.9075496e-04 2.7040631e-04 8.6026339e-05 1.0965642e-06\n",
            " 2.2450131e-03 9.8807436e-01 1.0067981e-05 1.3595009e-07 5.6295521e-06\n",
            " 3.2638695e-06]\n",
            "False\n",
            "wall white (4).jpg\n",
            "[8.7267317e-06 7.2380027e-07 2.8084987e-05 4.0743795e-05 1.5635458e-06\n",
            " 7.5323851e-07 3.9477021e-07 5.5200842e-05 5.9560395e-04 2.5756459e-05\n",
            " 1.6333928e-04 2.3773488e-05 9.2079790e-06 1.5087976e-05 2.5759568e-04\n",
            " 2.0851016e-05 1.8075873e-03 1.9928756e-04 2.0972818e-06 1.2311652e-07\n",
            " 3.7737325e-04 9.9630725e-01 4.3904856e-05 6.1979688e-07 1.1438529e-05\n",
            " 2.9777698e-06]\n",
            "False\n",
            "body white (4).jpg\n",
            "[1.18644050e-04 7.48294333e-05 3.01380223e-03 1.64829940e-03\n",
            " 1.13184773e-03 1.51578597e-05 5.49905599e-06 1.33110807e-04\n",
            " 4.90882471e-02 3.48267582e-04 1.53646964e-04 1.68886466e-03\n",
            " 7.05215643e-05 6.69783549e-05 1.35180324e-01 8.01279792e-04\n",
            " 9.47506819e-03 2.07197224e-03 6.18275255e-04 8.06221506e-05\n",
            " 1.47326753e-01 6.44492090e-01 1.00389676e-04 1.66448979e-06\n",
            " 5.88888106e-05 2.23504379e-03]\n",
            "False\n",
            "body white (2).jpg\n",
            "[7.09703163e-05 3.01603814e-06 1.10015308e-03 5.44052804e-04\n",
            " 1.49111060e-04 1.21856874e-06 6.87135412e-07 1.25473729e-04\n",
            " 6.59132227e-02 4.19218559e-04 2.50258909e-05 4.19925386e-03\n",
            " 3.06381044e-05 1.96701167e-05 6.75622420e-03 1.02470032e-04\n",
            " 5.75648737e-04 5.81570144e-04 9.20044185e-05 7.41778058e-06\n",
            " 4.09639589e-02 8.78176987e-01 1.86211964e-05 3.37346108e-07\n",
            " 1.99244860e-05 1.03089595e-04]\n",
            "False\n",
            "body dot (3).jpg\n",
            "[1.7159922e-05 3.8659455e-05 8.2430802e-03 3.7304783e-04 2.6797640e-04\n",
            " 2.5756467e-06 7.9480978e-06 4.3765745e-06 7.9236124e-03 3.6427049e-05\n",
            " 3.9566912e-05 1.0019078e-04 5.6349227e-06 3.3071661e-05 5.7602998e-02\n",
            " 2.7365974e-04 1.6190944e-02 2.9708503e-03 1.6522998e-04 8.2084180e-06\n",
            " 1.5420463e-03 9.0244275e-01 3.3914987e-06 6.6558323e-07 4.2452602e-06\n",
            " 1.7017055e-03]\n",
            "False\n",
            "wall white (3).jpg\n",
            "[3.0542269e-05 7.2768614e-08 1.1672446e-03 2.1281941e-05 3.2616440e-06\n",
            " 1.2155829e-07 3.9999841e-07 1.9342071e-05 1.6186288e-02 9.6601500e-05\n",
            " 2.5919417e-06 2.0212060e-02 2.0940610e-05 1.0585308e-05 3.5695516e-04\n",
            " 4.4875674e-06 3.6434605e-04 2.1394751e-04 8.0447295e-05 2.8013148e-06\n",
            " 3.5095287e-03 9.5758748e-01 1.3842975e-06 1.8611271e-07 6.3692663e-05\n",
            " 4.3351483e-05]\n",
            "False\n"
          ]
        }
      ]
    }
  ]
}